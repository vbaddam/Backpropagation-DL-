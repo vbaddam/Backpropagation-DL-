{
  "nbformat": 4,
  "nbformat_minor": 0,
  "metadata": {
    "kernelspec": {
      "display_name": "Python 3",
      "language": "python",
      "name": "python3"
    },
    "language_info": {
      "codemirror_mode": {
        "name": "ipython",
        "version": 2
      },
      "file_extension": ".py",
      "mimetype": "text/x-python",
      "name": "python",
      "nbconvert_exporter": "python",
      "pygments_lexer": "ipython2",
      "version": "2.7.15"
    },
    "colab": {
      "name": "HW2-Q1b",
      "provenance": [],
      "collapsed_sections": []
    }
  },
  "cells": [
    {
      "cell_type": "markdown",
      "metadata": {
        "id": "-L-paNvJPqcH",
        "colab_type": "text"
      },
      "source": [
        "# Question 2"
      ]
    },
    {
      "cell_type": "code",
      "metadata": {
        "id": "llF-eL2dFUfz",
        "colab_type": "code",
        "outputId": "fc1e4c48-c6a5-4fc8-d023-35555ee5d78a",
        "colab": {
          "base_uri": "https://localhost:8080/",
          "height": 34
        }
      },
      "source": [
        "#Importing all the required libraries\n",
        "import numpy as np\n",
        "import keras\n",
        "from keras.models import Sequential\n",
        "from keras.layers import Dense, Activation\n",
        "from sklearn.metrics import precision_recall_fscore_support"
      ],
      "execution_count": 0,
      "outputs": [
        {
          "output_type": "stream",
          "text": [
            "Using TensorFlow backend.\n"
          ],
          "name": "stderr"
        }
      ]
    },
    {
      "cell_type": "code",
      "metadata": {
        "id": "e24CK81-FUgK",
        "colab_type": "code",
        "colab": {}
      },
      "source": [
        "#Importing the given data, Seperated the features and target from train and test data.\n",
        "train_features = np.loadtxt('train_data.txt', delimiter = ',', usecols = (0,1))\n",
        "train_target = np.loadtxt('train_data.txt', delimiter = ',', usecols = 2)\n",
        "test_features = np.loadtxt('test_data.txt', delimiter = ',', usecols = (0,1))\n",
        "test_target = np.loadtxt('test_data.txt', delimiter = ',', usecols = 2)"
      ],
      "execution_count": 0,
      "outputs": []
    },
    {
      "cell_type": "code",
      "metadata": {
        "id": "ykJreGYrFUgc",
        "colab_type": "code",
        "colab": {}
      },
      "source": [
        "#sigmoid function\n",
        "def sigmoid(x):\n",
        " \n",
        "    m = np.exp(-x)\n",
        "    return(1.0/(1.0 + m))\n",
        "\n",
        "\n",
        "\n",
        "#differentaited sigmoid function in matrix form\n",
        "def der_sigmoid(x):\n",
        "    k = np.zeros((x.shape[0], x.shape[0]))\n",
        "    for i in range(len(k)):\n",
        "        for j in range(len(k)):\n",
        "            if i == j:\n",
        "                k[i][j] = sigmoid(x[i]) *(1-sigmoid(x[i]))\n",
        "            else: \n",
        "                k[i][j] = 0\n",
        "    return(k)\n",
        "\n",
        "#Softmax function\n",
        "def softmax(x):\n",
        "    m = 0\n",
        "    for i in range(len(x)):\n",
        "        m = m + np.exp(x[i])\n",
        "    for i in range(len(x)):\n",
        "        x[i] = np.exp(x[i])/m\n",
        "    return(x)\n",
        "\n",
        "#differentiated softmax function, in jacobian format.\n",
        "def der_soft(x):\n",
        "    k = np.zeros((x.shape[0], x.shape[0]))\n",
        "    for i in range(x.shape[0]):\n",
        "        for j in range(x.shape[0]):\n",
        "            if i == j:\n",
        "                k[i][j] = x[i] *(1-x[i])\n",
        "            else: \n",
        "                k[i][j] = -x[i]*x[j]\n",
        "    return(k)\n",
        "\n",
        "\n",
        "#Initalising the weights\n",
        "def init_weights():\n",
        "    w1 = np.random.rand(3,2)\n",
        "    w2 = np.random.rand(3,3)\n",
        "    w3 = np.random.rand(2,3)\n",
        "    return([w1,w2,w3]) \n",
        "    \n",
        "#forward calculation\n",
        "def feedforward(x, w1, w2, w3):\n",
        "    a1 = sigmoid(np.dot(w1,x.T))\n",
        "    a2 = sigmoid(np.dot(w2,a1))\n",
        "    y = softmax(np.dot(w3,a2))\n",
        "    \n",
        "    return(y)\n",
        "\n",
        "#function to set right the given target values form the text data.\n",
        "# took '0' and '1' as two classes. if the value is '1' in text data, then the groundtruth will be [0, 1]\n",
        "#and for '0', it's reverse\n",
        "def y_out(x):\n",
        "    if x == 1:\n",
        "        return(np.matrix([0, 1]))\n",
        "    else:\n",
        "        return(np.matrix([1, 0]))\n",
        "    \n",
        "#function to train the network\n",
        "def train(x, y):\n",
        "    [w1,w2,w3] = init_weights()\n",
        "    n = 0.01 #learning rate\n",
        "    LOSS = []\n",
        "    for i in range(2): #number of epochs\n",
        "        \n",
        "        for j in range(len(x)): #iteration through number of samples \n",
        "            \n",
        "          \n",
        "            #forward calculation in the network\n",
        "            z1 = np.dot(w1,np.matrix(x[j]).T)\n",
        "            \n",
        "            a1 = sigmoid(z1)\n",
        "            z2 = np.dot(w2,a1)\n",
        "            a2 = sigmoid(z2)\n",
        "            z3 = np.dot(w3,a2)\n",
        "         \n",
        "            y_pr = np.matrix(softmax(z3))\n",
        "              \n",
        "            \n",
        "            m = y[j]\n",
        "            k = y_out(m).T\n",
        "            \n",
        "            \n",
        "            #calculating the loss of the network\n",
        "            loss = np.sum(np.square((k - y_pr)))\n",
        "            \n",
        "            #change in loss\n",
        "            del_loss = -2*((k - y_pr))\n",
        "           \n",
        "            \n",
        "            \n",
        "            \n",
        "            \n",
        "            del3 = np.dot(der_soft(y_pr), del_loss)\n",
        "            del2 = np.dot(np.dot(der_sigmoid(z2), w3.T), del3)\n",
        "            del1 = np.dot(np.dot(der_sigmoid(z1), w2.T), del2)\n",
        "            \n",
        "            #change in weights is given by below\n",
        "            del3_w = np.dot(np.matrix(a2),np.matrix(del3).T)\n",
        "            del2_w = np.dot(np.matrix(a1), np.matrix(del2).T)\n",
        "            del1_w = np.dot(np.matrix(x[j]).T, np.matrix(del1).T)\n",
        "            \n",
        "            #updation of weights\n",
        "            w1 = w1 - n*del1_w.T\n",
        "            w2 = w2 - n*del2_w.T\n",
        "            w3 = w3 - n*del3_w.T\n",
        "            \n",
        "          \n",
        "        LOSS.append(loss)\n",
        "        print('The loss after ' + str(i+1) + ' epochs : ', loss)\n",
        "    \n",
        "    print('----------------------------------------------------------------')\n",
        "    print('The weight w1 after ' + str(i+1) + ' epochs:', w1)\n",
        "    print('The shape of w1 :', w1.shape)\n",
        "    print('The weight w2 after ' + str(i+1) + ' epochs:', w2)\n",
        "    print('The shape of w2 : ', w2.shape)\n",
        "    print('The weight w3 after ' + str(i+1) + ' epochs:', w3)\n",
        "    print('The shape of w3 :', w3.shape)\n",
        "    return([w1, w2, w3, LOSS])\n",
        "  "
      ],
      "execution_count": 0,
      "outputs": []
    },
    {
      "cell_type": "code",
      "metadata": {
        "id": "sFJInMtMFUgp",
        "colab_type": "code",
        "colab": {}
      },
      "source": [
        "y = train_target\n",
        "x = train_features"
      ],
      "execution_count": 0,
      "outputs": []
    },
    {
      "cell_type": "code",
      "metadata": {
        "id": "QYoy-JXpMs9U",
        "colab_type": "code",
        "colab": {}
      },
      "source": [
        "def y_mod(x):\n",
        "    if x == 1:\n",
        "        return([0, 1])\n",
        "    else:\n",
        "        return([1, 0])\n",
        "k = []\n",
        "for i in range(len(train_target)):\n",
        "  k.append(y_mod(train_target[i]))\n",
        "\n",
        "train_target1 = np.array(k)\n"
      ],
      "execution_count": 0,
      "outputs": []
    },
    {
      "cell_type": "code",
      "metadata": {
        "id": "QD9rwwBtvHJ0",
        "colab_type": "code",
        "colab": {}
      },
      "source": [
        "def relu(x):\n",
        "  return( x* (x > 0) )\n",
        "\n",
        "def der_relu(x):\n",
        "  k = np.zeros((x.shape[0], x.shape[0]))\n",
        "  for i in range(len(k)):\n",
        "    for j in range(len(k)):\n",
        "      if i==j and k[i][0] > 0:\n",
        "        k[i][j] = 1\n",
        "      else: \n",
        "        k[i][j] = 0\n",
        "    return(k)\n",
        "\n",
        "def dropout(z,i):\n",
        "  z[i] = 0\n",
        "  return(z)\n",
        "\n",
        "def train(x, y):\n",
        "  [w1,w2,w3] = init_weights()\n",
        "  n = 0.01\n",
        "  LOSS = []\n",
        "  l = 1\n",
        "  for i in range(3):\n",
        "    print('The Network number: ', i)\n",
        "    print('----------------------------------------------')\n",
        "    for k in range(10): \n",
        "      for j in range(len(x)):\n",
        "\n",
        "        z1 = np.dot(w1,np.matrix(x[j]).T)\n",
        "        a1 = np.matrix(relu(np.array(z1)))\n",
        "        z2 = np.dot(w2,a1)\n",
        "        z2 = dropout(z2, i)\n",
        "        a2 = np.matrix(relu(np.array(z2)))\n",
        "        z3 = np.dot(w3,a2)\n",
        "        y_pr = np.matrix(softmax(z3))\n",
        "        m = y[j]\n",
        "        k = y_out(m).T\n",
        "        loss = np.sum(np.square((k - y_pr)))\n",
        "        del_loss = -2*((k- y_pr))\n",
        "        del3 = np.dot(der_soft(y_pr), del_loss)\n",
        "        del2 = np.dot(np.dot(der_relu(dropout(z2, i)), w3.T), del3)\n",
        "        del1 = np.dot(np.dot(der_relu(z1), w2.T), del2)\n",
        "        del3_w = np.dot(np.matrix(a2),np.matrix(del3).T)\n",
        "        del2_w = np.dot(np.matrix(a1), np.matrix(del2).T)\n",
        "        del1_w = np.dot(np.matrix(x[j]).T, np.matrix(del1).T)\n",
        "        w1 = w1 - n*del1_w.T\n",
        "        w2 = w2 - n*del2_w.T\n",
        "        w3 = w3 - n*del3_w.T\n",
        "      \n",
        "      print('The loss after ' + str(j) + 'epochs', loss)\n",
        "    \n",
        "\n",
        "      \n",
        "    \n",
        "    \n",
        "  print('----------------------------------------------------------------')\n",
        "  print('The weight w1 after  epochs:', w1)\n",
        "  print('The shape of w1 :', w1.shape)\n",
        "  print('The weight w2 after pochs:', w2)\n",
        "  print('The shape of w2 : ', w2.shape)\n",
        "  print('The weight w3 after  epochs:', w3)\n",
        "  print('The shape of w3 :', w3.shape)\n",
        "  return([w1, w2, w3])\n",
        "  "
      ],
      "execution_count": 0,
      "outputs": []
    },
    {
      "cell_type": "code",
      "metadata": {
        "id": "DevwEem-Pw64",
        "colab_type": "code",
        "outputId": "90b36a67-667f-4690-f78d-63a7c3f6d334",
        "colab": {
          "base_uri": "https://localhost:8080/",
          "height": 851
        }
      },
      "source": [
        "[w1, w2, w3] = train(x,y)"
      ],
      "execution_count": 0,
      "outputs": [
        {
          "output_type": "stream",
          "text": [
            "The Network number:  0\n",
            "----------------------------------------------\n",
            "The loss after 999epochs 0.49352141577285896\n",
            "The loss after 999epochs 0.3192820159268113\n",
            "The loss after 999epochs 0.22366856301838534\n",
            "The loss after 999epochs 0.1663138285138791\n",
            "The loss after 999epochs 0.12902461765749415\n",
            "The loss after 999epochs 0.10327856940900194\n",
            "The loss after 999epochs 0.08467395808612774\n",
            "The loss after 999epochs 0.07074518059356882\n",
            "The loss after 999epochs 0.060018569098178376\n",
            "The loss after 999epochs 0.05156597943201619\n",
            "The Network number:  1\n",
            "----------------------------------------------\n",
            "The loss after 999epochs 0.03687297762269466\n",
            "The loss after 999epochs 0.006800783645994136\n",
            "The loss after 999epochs 0.0036068201805559735\n",
            "The loss after 999epochs 0.002325228816495609\n",
            "The loss after 999epochs 0.0015812308189784366\n",
            "The loss after 999epochs 0.0011071311091886997\n",
            "The loss after 999epochs 0.0007928136196352204\n",
            "The loss after 999epochs 0.0005787078476330039\n",
            "The loss after 999epochs 0.0004295820238544919\n",
            "The loss after 999epochs 0.0003236864805754983\n",
            "The Network number:  2\n",
            "----------------------------------------------\n",
            "The loss after 999epochs 5.412616815316357e-10\n",
            "The loss after 999epochs 1.115670058986313e-09\n",
            "The loss after 999epochs 2.4344231117695155e-09\n",
            "The loss after 999epochs 5.691731875679346e-09\n",
            "The loss after 999epochs 1.4499047375536549e-08\n",
            "The loss after 999epochs 4.122367786049641e-08\n",
            "The loss after 999epochs 1.357172201042566e-07\n",
            "The loss after 999epochs 5.497194108387093e-07\n",
            "The loss after 999epochs 3.064447419316127e-06\n",
            "The loss after 999epochs 3.017393934472854e-05\n",
            "----------------------------------------------------------------\n",
            "The weight w1 after  epochs: [[0.57467082 0.51675311]\n",
            " [0.25330591 0.78147756]\n",
            " [0.52336112 0.02235912]]\n",
            "The shape of w1 : (3, 2)\n",
            "The weight w2 after pochs: [[0.77463003 0.78094354 0.40949905]\n",
            " [0.05007152 0.54632143 0.40474844]\n",
            " [0.05734154 0.86987642 0.08759195]]\n",
            "The shape of w2 :  (3, 3)\n",
            "The weight w3 after  epochs: [[ 1.49671761  2.06070592 -2.98353086]\n",
            " [-0.03792283 -1.32659737  3.80788755]]\n",
            "The shape of w3 : (2, 3)\n"
          ],
          "name": "stdout"
        }
      ]
    },
    {
      "cell_type": "code",
      "metadata": {
        "id": "7-2X1NHQQMDE",
        "colab_type": "code",
        "colab": {}
      },
      "source": [
        "x = test_features\n",
        "\n",
        "def feedforward(x, w1, w2, w3):\n",
        "    a1 = relu(np.array(np.dot(w1,np.matrix(x).T)))\n",
        "    a2 = relu(np.array(np.dot(w2,a1)))\n",
        "    y = softmax(np.dot(w3,a2))\n",
        "\n",
        "    return(y)\n",
        "\n",
        "NN_result = np.array(feedforward(x, w1, w2*2/3, w3))\n",
        "\n",
        "#function to modify the target values of test data set\n",
        "def y_mod(x):\n",
        "    if x == 1:\n",
        "        return([0, 1])\n",
        "    else:\n",
        "        return([1, 0])\n",
        "j = []\n",
        "for i in range(len(test_target)):\n",
        "  j.append(y_mod(test_target[i]))\n",
        "\n",
        "test_target1 = np.array(j)\n"
      ],
      "execution_count": 0,
      "outputs": []
    },
    {
      "cell_type": "code",
      "metadata": {
        "id": "C09GMn5YSFpZ",
        "colab_type": "code",
        "outputId": "8ace1242-124c-469e-98a1-c07a6f13e538",
        "colab": {
          "base_uri": "https://localhost:8080/",
          "height": 69
        }
      },
      "source": [
        "#Score test across in-built model using Relu\n",
        "for i in range(len(NN_result[0])):\n",
        "  if NN_result[1][i] > NN_result[0][i]:\n",
        "    NN_result[1][i] = 1\n",
        "    NN_result[0][i] = 0\n",
        "  else:\n",
        "    NN_result[1][i] = 0\n",
        "    NN_result[0][i] = 1\n",
        "\n",
        "  k = []\n",
        "for i in range(len(NN_result[0])):\n",
        "  k.append([NN_result[0][i], NN_result[1][i]])\n",
        "test_target_pre = np.array(k)\n",
        "\n",
        "z = precision_recall_fscore_support(test_target1, test_target_pre)\n",
        "print('The Precision from in-built model: ', z[0])\n",
        "print('The Recall from in-built model:', z[1])\n",
        "print('The Fscore from in-built model: ', z[2])"
      ],
      "execution_count": 0,
      "outputs": [
        {
          "output_type": "stream",
          "text": [
            "The Precision from in-built model:  [0.91407678 1.        ]\n",
            "The Recall from in-built model: [1.    0.906]\n",
            "The Fscore from in-built model:  [0.95510984 0.95068206]\n"
          ],
          "name": "stdout"
        }
      ]
    },
    {
      "cell_type": "code",
      "metadata": {
        "id": "gvpWF70N3OnX",
        "colab_type": "code",
        "colab": {}
      },
      "source": [
        ""
      ],
      "execution_count": 0,
      "outputs": []
    }
  ]
}