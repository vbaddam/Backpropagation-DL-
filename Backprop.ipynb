{
  "nbformat": 4,
  "nbformat_minor": 0,
  "metadata": {
    "kernelspec": {
      "display_name": "Python 3",
      "language": "python",
      "name": "python3"
    },
    "language_info": {
      "codemirror_mode": {
        "name": "ipython",
        "version": 2
      },
      "file_extension": ".py",
      "mimetype": "text/x-python",
      "name": "python",
      "nbconvert_exporter": "python",
      "pygments_lexer": "ipython2",
      "version": "2.7.15"
    },
    "colab": {
      "name": "HW2 - Q1a",
      "provenance": [],
      "collapsed_sections": []
    }
  },
  "cells": [
    {
      "cell_type": "code",
      "metadata": {
        "id": "llF-eL2dFUfz",
        "colab_type": "code",
        "outputId": "9266a275-48d1-401c-c0a6-3dfd7ed9f49b",
        "colab": {
          "base_uri": "https://localhost:8080/",
          "height": 34
        }
      },
      "source": [
        "#Importing all the required libraries\n",
        "import numpy as np\n",
        "import keras\n",
        "from keras.models import Sequential\n",
        "from keras.layers import Dense, Activation\n",
        "from sklearn.metrics import precision_recall_fscore_support"
      ],
      "execution_count": 0,
      "outputs": [
        {
          "output_type": "stream",
          "text": [
            "Using TensorFlow backend.\n"
          ],
          "name": "stderr"
        }
      ]
    },
    {
      "cell_type": "code",
      "metadata": {
        "id": "e24CK81-FUgK",
        "colab_type": "code",
        "colab": {}
      },
      "source": [
        "#Importing the given data, Seperated the features and target from train and test data.\n",
        "train_features = np.loadtxt('train_data.txt', delimiter = ',', usecols = (0,1))\n",
        "train_target = np.loadtxt('train_data.txt', delimiter = ',', usecols = 2)\n",
        "test_features = np.loadtxt('test_data.txt', delimiter = ',', usecols = (0,1))\n",
        "test_target = np.loadtxt('test_data.txt', delimiter = ',', usecols = 2)"
      ],
      "execution_count": 0,
      "outputs": []
    },
    {
      "cell_type": "code",
      "metadata": {
        "id": "ykJreGYrFUgc",
        "colab_type": "code",
        "colab": {}
      },
      "source": [
        "#sigmoid function\n",
        "def sigmoid(x):\n",
        " \n",
        "    m = np.exp(-x)\n",
        "    return(1.0/(1.0 + m))\n",
        "\n",
        "\n",
        "\n",
        "#differentaited sigmoid function in matrix form\n",
        "def der_sigmoid(x):\n",
        "    k = np.zeros((x.shape[0], x.shape[0]))\n",
        "    for i in range(len(k)):\n",
        "        for j in range(len(k)):\n",
        "            if i == j:\n",
        "                k[i][j] = sigmoid(x[i]) *(1-sigmoid(x[i]))\n",
        "            else: \n",
        "                k[i][j] = 0\n",
        "    return(k)\n",
        "\n",
        "#Softmax function\n",
        "def softmax(x):\n",
        "    m = 0\n",
        "    for i in range(len(x)):\n",
        "        m = m + np.exp(x[i])\n",
        "    for i in range(len(x)):\n",
        "        x[i] = np.exp(x[i])/m\n",
        "    return(x)\n",
        "\n",
        "#differentiated softmax function, in jacobian format.\n",
        "def der_soft(x):\n",
        "    k = np.zeros((x.shape[0], x.shape[0]))\n",
        "    for i in range(x.shape[0]):\n",
        "        for j in range(x.shape[0]):\n",
        "            if i == j:\n",
        "                k[i][j] = x[i] *(1-x[i])\n",
        "            else: \n",
        "                k[i][j] = -x[i]*x[j]\n",
        "    return(k)\n",
        "\n",
        "\n",
        "#Initalising the weights\n",
        "def init_weights():\n",
        "    w1 = np.random.rand(3,2)\n",
        "    w2 = np.random.rand(3,3)\n",
        "    w3 = np.random.rand(2,3)\n",
        "    return([w1,w2,w3]) \n",
        "    \n",
        "#forward calculation\n",
        "def feedforward(x, w1, w2, w3):\n",
        "    a1 = sigmoid(np.dot(w1,x.T))\n",
        "    a2 = sigmoid(np.dot(w2,a1))\n",
        "    y = softmax(np.dot(w3,a2))\n",
        "    \n",
        "    return(y)\n",
        "\n",
        "#function to set right the given target values form the text data.\n",
        "# took '0' and '1' as two classes. if the value is '1' in text data, then the groundtruth will be [0, 1]\n",
        "#and for '0', it's reverse\n",
        "def y_out(x):\n",
        "    if x == 1:\n",
        "        return(np.matrix([0, 1]))\n",
        "    else:\n",
        "        return(np.matrix([1, 0]))\n",
        "    \n",
        "#function to train the network\n",
        "def train(x, y):\n",
        "    [w1,w2,w3] = init_weights()\n",
        "    n = 0.01 #learning rate\n",
        "    LOSS = []\n",
        "    for i in range(2): #number of epochs\n",
        "        \n",
        "        for j in range(len(x)): #iteration through number of samples \n",
        "            \n",
        "          \n",
        "            #forward calculation in the network\n",
        "            z1 = np.dot(w1,np.matrix(x[j]).T)\n",
        "            \n",
        "            a1 = sigmoid(z1)\n",
        "            z2 = np.dot(w2,a1)\n",
        "            a2 = sigmoid(z2)\n",
        "            z3 = np.dot(w3,a2)\n",
        "         \n",
        "            y_pr = np.matrix(softmax(z3))\n",
        "              \n",
        "            \n",
        "            m = y[j]\n",
        "            k = y_out(m).T\n",
        "            \n",
        "            \n",
        "            #calculating the loss of the network\n",
        "            loss = np.sum(np.square((k - y_pr)))\n",
        "            \n",
        "            #change in loss\n",
        "            del_loss = -2*((k - y_pr))\n",
        "           \n",
        "            \n",
        "            \n",
        "            \n",
        "            \n",
        "            del3 = np.dot(der_soft(y_pr), del_loss)\n",
        "            del2 = np.dot(np.dot(der_sigmoid(z2), w3.T), del3)\n",
        "            del1 = np.dot(np.dot(der_sigmoid(z1), w2.T), del2)\n",
        "            \n",
        "            #change in weights is given by below\n",
        "            del3_w = np.dot(np.matrix(a2),np.matrix(del3).T)\n",
        "            del2_w = np.dot(np.matrix(a1), np.matrix(del2).T)\n",
        "            del1_w = np.dot(np.matrix(x[j]).T, np.matrix(del1).T)\n",
        "            \n",
        "            #updation of weights\n",
        "            w1 = w1 - n*del1_w.T\n",
        "            w2 = w2 - n*del2_w.T\n",
        "            w3 = w3 - n*del3_w.T\n",
        "            \n",
        "          \n",
        "        LOSS.append(loss)\n",
        "        print('The loss after ' + str(i+1) + ' epochs : ', loss)\n",
        "    \n",
        "    print('----------------------------------------------------------------')\n",
        "    print('The weight w1 after ' + str(i+1) + ' epochs:', w1)\n",
        "    print('The shape of w1 :', w1.shape)\n",
        "    print('The weight w2 after ' + str(i+1) + ' epochs:', w2)\n",
        "    print('The shape of w2 : ', w2.shape)\n",
        "    print('The weight w3 after ' + str(i+1) + ' epochs:', w3)\n",
        "    print('The shape of w3 :', w3.shape)\n",
        "    return([w1, w2, w3, LOSS])\n",
        "  "
      ],
      "execution_count": 0,
      "outputs": []
    },
    {
      "cell_type": "code",
      "metadata": {
        "id": "sFJInMtMFUgp",
        "colab_type": "code",
        "colab": {}
      },
      "source": [
        "y = train_target\n",
        "x = train_features"
      ],
      "execution_count": 0,
      "outputs": []
    },
    {
      "cell_type": "code",
      "metadata": {
        "id": "hDZIjt3lFUg6",
        "colab_type": "code",
        "outputId": "f42bb85d-f190-4bac-a78d-c87d68cd2cdf",
        "colab": {
          "base_uri": "https://localhost:8080/",
          "height": 260
        }
      },
      "source": [
        "[w1, w2, w3, LOSS] = train(x,y)"
      ],
      "execution_count": 0,
      "outputs": [
        {
          "output_type": "stream",
          "text": [
            "The loss after 1 epochs :  0.4922746936378984\n",
            "The loss after 2 epochs :  0.4487008217852561\n",
            "----------------------------------------------------------------\n",
            "The weight w1 after 2 epochs: [[ 0.42386352  1.03264539]\n",
            " [ 0.80218312 -0.13311215]\n",
            " [ 0.10019367  0.80649237]]\n",
            "The shape of w1 : (3, 2)\n",
            "The weight w2 after 2 epochs: [[ 0.03525057  1.26829459 -0.08213004]\n",
            " [ 0.25954633  0.42943571  0.66759723]\n",
            " [ 0.57562927  0.14066945  0.76580635]]\n",
            "The shape of w2 :  (3, 3)\n",
            "The weight w3 after 2 epochs: [[ 1.24197084  0.69290014 -0.00455182]\n",
            " [ 0.09416372  0.60998121  1.14513401]]\n",
            "The shape of w3 : (2, 3)\n"
          ],
          "name": "stdout"
        }
      ]
    },
    {
      "cell_type": "code",
      "metadata": {
        "id": "QYoy-JXpMs9U",
        "colab_type": "code",
        "colab": {}
      },
      "source": [
        "def y_mod(x):\n",
        "    if x == 1:\n",
        "        return([0, 1])\n",
        "    else:\n",
        "        return([1, 0])\n",
        "k = []\n",
        "for i in range(len(train_target)):\n",
        "  k.append(y_mod(train_target[i]))\n",
        "\n",
        "train_target1 = np.array(k)\n"
      ],
      "execution_count": 0,
      "outputs": []
    },
    {
      "cell_type": "code",
      "metadata": {
        "id": "CEaXYvo_NgWF",
        "colab_type": "code",
        "colab": {}
      },
      "source": [
        "x = test_features\n",
        "NN_result = np.array(feedforward(x, w1, w2, w3))\n",
        "\n",
        "#function to modify the target values of test data set\n",
        "def y_mod(x):\n",
        "    if x == 1:\n",
        "        return([0, 1])\n",
        "    else:\n",
        "        return([1, 0])\n",
        "j = []\n",
        "for i in range(len(test_target)):\n",
        "  j.append(y_mod(test_target[i]))\n",
        "\n",
        "test_target1 = np.array(j)"
      ],
      "execution_count": 0,
      "outputs": []
    },
    {
      "cell_type": "code",
      "metadata": {
        "id": "J2m6G1FtV39l",
        "colab_type": "code",
        "outputId": "238257ee-fa47-416c-c507-061c1c1421ef",
        "colab": {
          "base_uri": "https://localhost:8080/",
          "height": 69
        }
      },
      "source": [
        "#Score test across in-built model without RELU\n",
        "for i in range(len(NN_result[0])):\n",
        "  if NN_result[1][i] > NN_result[0][i]:\n",
        "    NN_result[1][i] = 1\n",
        "    NN_result[0][i] = 0\n",
        "  else:\n",
        "    NN_result[1][i] = 0\n",
        "    NN_result[0][i] = 1\n",
        "\n",
        "  k = []\n",
        "for i in range(len(NN_result[0])):\n",
        "  k.append([NN_result[0][i], NN_result[1][i]])\n",
        "test_target_pre = np.array(k)\n",
        "\n",
        "z = precision_recall_fscore_support(test_target1, test_target_pre)\n",
        "print('The Precision from in-built model: ', z[0])\n",
        "print('The Recall from in-built model:', z[1])\n",
        "print('The Fscore from in-built model: ', z[2])"
      ],
      "execution_count": 0,
      "outputs": [
        {
          "output_type": "stream",
          "text": [
            "The Precision from in-built model:  [0.99403579 1.        ]\n",
            "The Recall from in-built model: [1.    0.994]\n",
            "The Fscore from in-built model:  [0.99700897 0.99699097]\n"
          ],
          "name": "stdout"
        }
      ]
    },
    {
      "cell_type": "code",
      "metadata": {
        "id": "QD9rwwBtvHJ0",
        "colab_type": "code",
        "colab": {}
      },
      "source": [
        "def relu(x):\n",
        "  return( x* (x > 0) )\n",
        "\n",
        "def der_relu(x):\n",
        "  k = np.zeros((x.shape[0], x.shape[0]))\n",
        "  for i in range(len(k)):\n",
        "    for j in range(len(k)):\n",
        "      if i==j and k[i][0]:\n",
        "        k[i][j]  = 1\n",
        "      else: \n",
        "        k[i][j] = 0\n",
        "    return(k)\n",
        "\n",
        "def train(x, y):\n",
        "    [w1,w2,w3] = init_weights()\n",
        "    n = 0.01 #learning rate\n",
        "    LOSS = []\n",
        "    l = 1\n",
        "    #i = i\n",
        "    while l > 10**-3: \n",
        "      #number of epochs\n",
        "        \n",
        "        for j in range(len(x)): #iteration through number of samples \n",
        "            \n",
        "          \n",
        "            #forward calculation in the network\n",
        "            z1 = np.dot(w1,np.matrix(x[j]).T)\n",
        "            \n",
        "            a1 = np.matrix(relu(np.array(z1)))\n",
        "           \n",
        "            z2 = np.dot(w2,a1)\n",
        "            a2 = np.matrix(relu(np.array(z2)))\n",
        "            z3 = np.dot(w3,a2)\n",
        "         \n",
        "            y_pr = np.matrix(softmax(z3))\n",
        "              \n",
        "            \n",
        "            m = y[j]\n",
        "            k = y_out(m).T\n",
        "            \n",
        "            \n",
        "            #calculating the loss of the network\n",
        "            loss = np.sum(np.square((k - y_pr)))\n",
        "            \n",
        "            #change in loss\n",
        "            del_loss = -2*((k - y_pr))\n",
        "           \n",
        "            \n",
        "            \n",
        "            \n",
        "            \n",
        "            del3 = np.dot(der_soft(y_pr), del_loss)\n",
        "            del2 = np.dot(np.dot(der_relu(z2), w3.T), del3)\n",
        "            del1 = np.dot(np.dot(der_relu(z1), w2.T), del2)\n",
        "            \n",
        "            #change in weights is given by below\n",
        "            del3_w = np.dot(np.matrix(a2),np.matrix(del3).T)\n",
        "            del2_w = np.dot(np.matrix(a1), np.matrix(del2).T)\n",
        "            del1_w = np.dot(np.matrix(x[j]).T, np.matrix(del1).T)\n",
        "            \n",
        "            #updation of weights\n",
        "            w1 = w1 - n*del1_w.T\n",
        "            w2 = w2 - n*del2_w.T\n",
        "            w3 = w3 - n*del3_w.T\n",
        "            \n",
        "          \n",
        "        LOSS.append(loss)\n",
        "        print('The loss after  epochs : ', loss)\n",
        "        l = loss\n",
        "    #i = i + 1\n",
        "    \n",
        "    print('----------------------------------------------------------------')\n",
        "    print('The weight w1 after  epochs:', w1)\n",
        "    print('The shape of w1 :', w1.shape)\n",
        "    print('The weight w2 after  epochs:', w2)\n",
        "    print('The shape of w2 : ', w2.shape)\n",
        "    print('The weight w3 after  epochs:', w3)\n",
        "    print('The shape of w3 :', w3.shape)\n",
        "    return([w1, w2, w3, LOSS])\n",
        "  "
      ],
      "execution_count": 0,
      "outputs": []
    },
    {
      "cell_type": "code",
      "metadata": {
        "id": "DevwEem-Pw64",
        "colab_type": "code",
        "outputId": "cca56782-f9fd-4111-94bb-5068680ac267",
        "colab": {
          "base_uri": "https://localhost:8080/",
          "height": 416
        }
      },
      "source": [
        "[w1, w2, w3, LOSS] = train(x,y)"
      ],
      "execution_count": 0,
      "outputs": [
        {
          "output_type": "stream",
          "text": [
            "The loss after  epochs :  0.1844807806763029\n",
            "The loss after  epochs :  0.062198388384854864\n",
            "The loss after  epochs :  0.028476850645214064\n",
            "The loss after  epochs :  0.015191899585507\n",
            "The loss after  epochs :  0.00891325026367388\n",
            "The loss after  epochs :  0.0055876016016579814\n",
            "The loss after  epochs :  0.003679802622084254\n",
            "The loss after  epochs :  0.0025181643750480636\n",
            "The loss after  epochs :  0.001777192228756365\n",
            "The loss after  epochs :  0.0012865223562837907\n",
            "The loss after  epochs :  0.0009514161100198041\n",
            "----------------------------------------------------------------\n",
            "The weight w1 after  epochs: [[0.62709354 0.44402638]\n",
            " [0.06837613 0.82376136]\n",
            " [0.43568491 0.61240641]]\n",
            "The shape of w1 : (3, 2)\n",
            "The weight w2 after  epochs: [[0.22484086 0.95403082 0.02536913]\n",
            " [0.8042365  0.7012352  0.52336053]\n",
            " [0.77122377 0.61202373 0.71876342]]\n",
            "The shape of w2 :  (3, 3)\n",
            "The weight w3 after  epochs: [[-1.95171851  1.44332799  1.51791123]\n",
            " [ 3.33687792  0.24616508 -0.54788934]]\n",
            "The shape of w3 : (2, 3)\n"
          ],
          "name": "stdout"
        }
      ]
    },
    {
      "cell_type": "code",
      "metadata": {
        "id": "7-2X1NHQQMDE",
        "colab_type": "code",
        "colab": {}
      },
      "source": [
        "x = test_features\n",
        "\n",
        "def feedforward(x, w1, w2, w3):\n",
        "    a1 = relu(np.array(np.dot(w1,np.matrix(x).T)))\n",
        "    a2 = relu(np.array(np.dot(w2,a1)))\n",
        "    y = softmax(np.dot(w3,a2))\n",
        "\n",
        "    return(y)\n",
        "\n",
        "NN_result = np.array(feedforward(x, w1, w2, w3))\n",
        "\n",
        "#function to modify the target values of test data set\n",
        "def y_mod(x):\n",
        "    if x == 1:\n",
        "        return([0, 1])\n",
        "    else:\n",
        "        return([1, 0])\n",
        "j = []\n",
        "for i in range(len(test_target)):\n",
        "  j.append(y_mod(test_target[i]))\n",
        "\n",
        "test_target1 = np.array(j)\n"
      ],
      "execution_count": 0,
      "outputs": []
    },
    {
      "cell_type": "code",
      "metadata": {
        "id": "C09GMn5YSFpZ",
        "colab_type": "code",
        "outputId": "161e9fc7-a77b-474d-a887-73811f0276a9",
        "colab": {
          "base_uri": "https://localhost:8080/",
          "height": 69
        }
      },
      "source": [
        "#Score test across in-built model using Relu\n",
        "for i in range(len(NN_result[0])):\n",
        "  if NN_result[1][i] > NN_result[0][i]:\n",
        "    NN_result[1][i] = 1\n",
        "    NN_result[0][i] = 0\n",
        "  else:\n",
        "    NN_result[1][i] = 0\n",
        "    NN_result[0][i] = 1\n",
        "\n",
        "  k = []\n",
        "for i in range(len(NN_result[0])):\n",
        "  k.append([NN_result[0][i], NN_result[1][i]])\n",
        "test_target_pre = np.array(k)\n",
        "\n",
        "z = precision_recall_fscore_support(test_target1, test_target_pre)\n",
        "print('The Precision from in-built model: ', z[0])\n",
        "print('The Recall from in-built model:', z[1])\n",
        "print('The Fscore from in-built model: ', z[2])"
      ],
      "execution_count": 0,
      "outputs": [
        {
          "output_type": "stream",
          "text": [
            "The Precision from in-built model:  [0.96899225 1.        ]\n",
            "The Recall from in-built model: [1.    0.968]\n",
            "The Fscore from in-built model:  [0.98425197 0.98373984]\n"
          ],
          "name": "stdout"
        }
      ]
    },
    {
      "cell_type": "code",
      "metadata": {
        "id": "4iQl4usyPMWY",
        "colab_type": "code",
        "colab": {}
      },
      "source": [
        ""
      ],
      "execution_count": 0,
      "outputs": []
    }
  ]
}